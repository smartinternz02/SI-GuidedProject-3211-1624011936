{
 "cells": [
  {
   "cell_type": "code",
   "execution_count": 10,
   "metadata": {},
   "outputs": [],
   "source": [
    "import string\n",
    "import numpy as np\n",
    "import PIL.Image\n",
    "\n",
    "from os import listdir\n",
    "from pickle import dump, load\n",
    "\n",
    "from numpy import array\n",
    "from numpy import argmax\n",
    "\n",
    "from keras.applications.vgg16 import VGG16, preprocess_input\n",
    "from keras.preprocessing.image import load_img, img_to_array\n",
    "from keras.preprocessing.text import Tokenizer\n",
    "from keras.preprocessing.sequence import pad_sequences\n",
    "from keras.utils import to_categorical\n",
    "from keras.layers.merge import add\n",
    "from keras.models import Model, load_model\n",
    "from keras.layers import Input, Dense, LSTM, Embedding, Dropout\n",
    "from keras.callbacks import ModelCheckpoint"
   ]
  },
  {
   "cell_type": "code",
   "execution_count": 11,
   "metadata": {},
   "outputs": [],
   "source": [
    "def extract_features(filename):\n",
    "    model = VGG16()\n",
    "    model.layers.pop()\n",
    "    model = Model(inputs=model.inputs, outputs=model.layers[-1].output)\n",
    "    image = load_img(filename, target_size=(224, 224))\n",
    "    image = img_to_array(image)\n",
    "    image = image.reshape((1, image.shape[0], image.shape[1], image.shape[2]))\n",
    "    image = preprocess_input(image)\n",
    "    feature = model.predict(image, verbose=0)\n",
    "    return feature\n",
    "\n",
    "def word_for_id(integer, tokenizer):\n",
    "    for word, index in tokenizer.word_index.items():\n",
    "        if index == integer:\n",
    "            return word\n",
    "    return None\n",
    "\n",
    "def generate_desc(model, tokenizer, photo, max_length):\n",
    "    in_text = 'startseq'\n",
    "    for i in range(max_length):\n",
    "        sequence = tokenizer.texts_to_sequences([in_text])[0]\n",
    "        sequence = pad_sequences([sequence], maxlen=max_length)\n",
    "        yhat = model.predict([photo,sequence], verbose=0)\n",
    "        print(yhat)\n",
    "        yhat = argmax(yhat)\n",
    "        word = word_for_id(yhat, tokenizer)\n",
    "        if word is None:\n",
    "            break\n",
    "        in_text += ' ' + word\n",
    "        if word == 'endseq':\n",
    "            break\n",
    "    return in_text\n",
    "\n",
    "tokenizer = load(open('tokenizer.pkl', 'rb'))\n",
    "max_length = 34"
   ]
  },
  {
   "cell_type": "code",
   "execution_count": 12,
   "metadata": {},
   "outputs": [
    {
     "name": "stdout",
     "output_type": "stream",
     "text": [
      "[[2.0070108e-09 1.8112958e-09 8.5144593e-06 ... 1.9913728e-09\n",
      "  1.2711884e-10 1.9518733e-09]]\n",
      "[[1.5638268e-10 1.5574657e-10 3.1735493e-05 ... 1.5419771e-10\n",
      "  1.3235459e-12 1.5577599e-10]]\n",
      "[[1.2949221e-10 1.6763356e-10 1.5263242e-03 ... 1.3288859e-10\n",
      "  2.2644541e-11 1.4316431e-10]]\n",
      "[[3.6860584e-11 4.0932133e-11 7.0493094e-05 ... 3.7948134e-11\n",
      "  9.3421678e-16 3.8892681e-11]]\n",
      "[[5.4131133e-10 6.2895217e-10 3.1561276e-03 ... 6.1382377e-10\n",
      "  8.3412335e-13 5.3085153e-10]]\n",
      "[[1.9159145e-12 1.7784355e-12 3.5650632e-01 ... 1.6575860e-12\n",
      "  9.5555809e-22 1.4898378e-12]]\n",
      "startseq two men are playing soccer endseq\n"
     ]
    }
   ],
   "source": [
    "model = load_model('models/model_19.h5')\n",
    "path = r'C:\\Users\\DELL\\Downloads\\Project\\Image-captioning\\Flicker8k_Dataset\\47871819_db55ac4699.jpg'\n",
    "photo = extract_features(path)\n",
    "\n",
    "description = generate_desc(model, tokenizer, photo, max_length)\n",
    "print(description)"
   ]
  },
  {
   "cell_type": "code",
   "execution_count": null,
   "metadata": {},
   "outputs": [],
   "source": []
  }
 ],
 "metadata": {
  "kernelspec": {
   "display_name": "Python 3",
   "language": "python",
   "name": "python3"
  },
  "language_info": {
   "codemirror_mode": {
    "name": "ipython",
    "version": 3
   },
   "file_extension": ".py",
   "mimetype": "text/x-python",
   "name": "python",
   "nbconvert_exporter": "python",
   "pygments_lexer": "ipython3",
   "version": "3.7.3"
  }
 },
 "nbformat": 4,
 "nbformat_minor": 2
}
